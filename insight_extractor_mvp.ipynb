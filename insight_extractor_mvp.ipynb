{
 "cells": [
  {
   "cell_type": "code",
   "execution_count": 1,
   "id": "aa84140c-facf-4d36-b760-bd88a3e4d512",
   "metadata": {},
   "outputs": [],
   "source": [
    "from pydantic import BaseModel, Field\n",
    "from pydantic_ai import Agent\n",
    "from typing import List\n",
    "import os"
   ]
  },
  {
   "cell_type": "markdown",
   "id": "bb3e217a-83a1-4d4d-b79a-2e643d233b4d",
   "metadata": {},
   "source": [
    "Data structure / BaseModel"
   ]
  },
  {
   "cell_type": "code",
   "execution_count": 27,
   "id": "d655f114-4414-45d3-a56d-be1019e4fa18",
   "metadata": {},
   "outputs": [],
   "source": [
    "class PainPoint(BaseModel):\n",
    "    description: str = Field(description=\"What's not working for the user. Be specific about the problem, not the solution.\")\n",
    "    impact: str = Field(description=\"Cost in time, money, or confidence. Include quotes with numbers when available.\")\n",
    "    quote: str = Field(description=\"User's exact words\")\n",
    "    \n",
    "class JobToBeDone(BaseModel):\n",
    "    functional_job: str = Field(description=\"What task are they trying to complete?\")\n",
    "    emotional_job: str = Field(description=\"What they care about and how do they want to feel?\")\n",
    "    context: str = Field(description=\"When/where does this happen?\")\n",
    "    quote: str\n",
    "\n",
    "class Workaround(BaseModel):\n",
    "    what_they_do: str = Field(description=\"The workaround(s) they've created\")\n",
    "    why_needed: str = Field(description=\"What problem does the workaround solve?\")\n",
    "    cost: str = Field(description=\"Time/effort/risks this workaround takes\")\n",
    "    quote: str\n",
    "\n",
    "class DesiredOutcome(BaseModel):\n",
    "    outcome: str = Field(description=\"What do they really want?\")\n",
    "    current_gap: str = Field(description=\"Why can't they achieve this now?\")\n",
    "    quote: str\n",
    "\n",
    "class BehavioralSignal(BaseModel):\n",
    "    observation: str = Field(description=\"What implicit things did they say/do that was revealing?\")\n",
    "    what_it_reveals: str = Field(description=\"The underlying need or belief\")\n",
    "    quote: str\n",
    "\n",
    "class InterviewInsights(BaseModel):\n",
    "    pain_points: List[PainPoint]\n",
    "    jobs_to_be_done: List[JobToBeDone]\n",
    "    workarounds: List[Workaround]\n",
    "    desired_outcomes: List[DesiredOutcome]\n",
    "    behavioral_signals: List[BehavioralSignal]"
   ]
  },
  {
   "cell_type": "markdown",
   "id": "4122faac-cc0b-4443-9885-4783d28e88a9",
   "metadata": {},
   "source": [
    "Create AI agent that extracts insights:"
   ]
  },
  {
   "cell_type": "code",
   "execution_count": 28,
   "id": "48287d24-f633-4909-8008-d88417d9eed1",
   "metadata": {},
   "outputs": [],
   "source": [
    "multi_insight_agent = Agent(\n",
    "    model='openai:gpt-4o-mini',\n",
    "    output_type=InterviewInsights,\n",
    "    system_prompt=\"\"\"You are an expert product researcher analyzing user interviews using established frameworks (Jobs-to-be-Done, continuous discovery practices).\n",
    "    \n",
    "    Extract ALL insights from the interview:\n",
    "    - Pain points: Problems causing time waste, costs, uncertainty, frustration\n",
    "    - Jobs-to-be-done: What they're trying to accomplish (functional + emotional goals)\n",
    "    - Workarounds: Current hacks/solutions they've created\n",
    "    - Desired outcomes: What do they really want\n",
    "    - Behavioral signals: Implicit patterns (what they do that reveals underlying needs)\n",
    "    \n",
    "    Always include exact quotes as evidence. Be thorough - one interview may have multiple insights of each type.\"\"\"\n",
    ")"
   ]
  },
  {
   "cell_type": "markdown",
   "id": "d245e065-a84e-4c03-a765-536802a68551",
   "metadata": {},
   "source": [
    "Sample Interview:"
   ]
  },
  {
   "cell_type": "code",
   "execution_count": 29,
   "id": "a3b648b7-0c9a-4215-8d4c-0a97fc7e2d8d",
   "metadata": {},
   "outputs": [],
   "source": [
    "SAMPLE_INTERVIEW = \"\"\"\n",
    "Interviewer: Tell me about the last time you tried to analyze user research data.\n",
    "\n",
    "Participant: Oh, just last week. We had 12 customer interviews and I needed to present insights to the team. I probably spent 8 hours just going through transcripts, copying quotes into a doc, trying to find themes.\n",
    "\n",
    "Interviewer: What made it take so long?\n",
    "\n",
    "Participant: The biggest problem is that insights are scattered everywhere. One user mentions pricing is confusing in passing, another user describes the same issue but uses completely different words. I have to read everything multiple times and manually connect the dots. By the end, my brain is fried and I'm not even confident I caught all the important patterns.\n",
    "\n",
    "Interviewer: How does that affect your work?\n",
    "\n",
    "Participant: It makes me anxious honestly. When my PM asks \"what did users say about feature X?\" I sometimes have to say \"let me go back and check\" because I can't remember or didn't catch it the first time. It makes me look unprepared even though I've put in the hours.\n",
    "\"\"\""
   ]
  },
  {
   "cell_type": "markdown",
   "id": "2db28339-98b1-43bb-97d9-53876c71ab7c",
   "metadata": {},
   "source": [
    "Extract data models from the sample interview:"
   ]
  },
  {
   "cell_type": "code",
   "execution_count": 34,
   "id": "6e970b9b-0ba5-4cad-aa84-2dd63a8eeb24",
   "metadata": {},
   "outputs": [
    {
     "name": "stdout",
     "output_type": "stream",
     "text": [
      "\n",
      "PAIN POINTS:\n",
      "\n",
      "1. Insights are scattered everywhere, making it difficult to see connections.\n",
      "   Impact: Time wasted in searching for themes and connections.\n",
      "   Quote: The biggest problem is that insights are scattered everywhere.\n",
      "\n",
      "2. Reading everything multiple times and still feeling unsure about insights.\n",
      "   Impact: Uncertainty about missing important patterns leads to anxiety.\n",
      "   Quote: By the end, my brain is fried and I'm not even confident I caught all the important patterns.\n",
      "\n",
      "3. Feeling unprepared when asked questions about user feedback.\n",
      "   Impact: Lack of confidence in presenting findings.\n",
      "   Quote: I sometimes have to say 'let me go back and check' because I can't remember.\n",
      "\n",
      "\n",
      "JOBS-TO-BE-DONE:\n",
      "\n",
      "1. Functional: Analyze user research data and extract key insights.\n",
      "   Emotional: Feel confident in presenting findings to the team.\n",
      "   Context: After conducting customer interviews and before a team presentation.\n",
      "\n",
      "\n",
      "WORKAROUNDS:\n",
      "\n",
      "1. Manually connect the dots between different user quotes.\n",
      "   Why: To make sense of scattered insights and trends.\n",
      "   Cost: Time-consuming and mentally exhausting.\n",
      "\n",
      "\n",
      "DESIRED OUTCOMES:\n",
      "\n",
      "1. To efficiently extract clear and actionable insights from user research.\n",
      "   Gap: Current methods are time-consuming and lead to uncertainty.\n",
      "\n",
      "\n",
      "BEHAVIORAL SIGNALS:\n",
      "\n",
      "1. Participant spends a lot of time organizing insights manually.\n",
      "   Reveals: They value clarity and efficiency in data analysis.\n",
      "\n",
      "2. Participant feels mentally exhausted after reviewing user interviews.\n",
      "   Reveals: The process is overwhelming and lacks a structured approach.\n"
     ]
    }
   ],
   "source": [
    "result = await multi_insight_agent.run(SAMPLE_INTERVIEW)\n",
    "insights = result.output\n",
    "\n",
    "print(\"\\nPAIN POINTS:\")\n",
    "for i, pp in enumerate(insights.pain_points, 1):\n",
    "    print(f\"\\n{i}. {pp.description}\")\n",
    "    print(f\"   Impact: {pp.impact}\")\n",
    "    print(f\"   Quote: {pp.quote}\")\n",
    "\n",
    "print(\"\\n\\nJOBS-TO-BE-DONE:\")\n",
    "for i, job in enumerate(insights.jobs_to_be_done, 1):\n",
    "    print(f\"\\n{i}. Functional: {job.functional_job}\")\n",
    "    print(f\"   Emotional: {job.emotional_job}\")\n",
    "    print(f\"   Context: {job.context}\")\n",
    "\n",
    "print(\"\\n\\nWORKAROUNDS:\")\n",
    "for i, w in enumerate(insights.workarounds, 1):\n",
    "    print(f\"\\n{i}. {w.what_they_do}\")\n",
    "    print(f\"   Why: {w.why_needed}\")\n",
    "    print(f\"   Cost: {w.cost}\")\n",
    "\n",
    "print(\"\\n\\nDESIRED OUTCOMES:\")\n",
    "for i, outcome in enumerate(insights.desired_outcomes, 1):\n",
    "    print(f\"\\n{i}. {outcome.outcome}\")\n",
    "    print(f\"   Gap: {outcome.current_gap}\")\n",
    "\n",
    "print(\"\\n\\nBEHAVIORAL SIGNALS:\")\n",
    "for i, signal in enumerate(insights.behavioral_signals, 1):\n",
    "    print(f\"\\n{i}. {signal.observation}\")\n",
    "    print(f\"   Reveals: {signal.what_it_reveals}\")"
   ]
  },
  {
   "cell_type": "code",
   "execution_count": null,
   "id": "f53c73b1-4b12-4e97-8a61-5f00d21c170b",
   "metadata": {},
   "outputs": [],
   "source": []
  }
 ],
 "metadata": {
  "kernelspec": {
   "display_name": "Python 3 (ipykernel)",
   "language": "python",
   "name": "python3"
  },
  "language_info": {
   "codemirror_mode": {
    "name": "ipython",
    "version": 3
   },
   "file_extension": ".py",
   "mimetype": "text/x-python",
   "name": "python",
   "nbconvert_exporter": "python",
   "pygments_lexer": "ipython3",
   "version": "3.11.13"
  }
 },
 "nbformat": 4,
 "nbformat_minor": 5
}
