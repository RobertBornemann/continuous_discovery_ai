{
 "cells": [
  {
   "cell_type": "code",
   "execution_count": 1,
   "id": "aa84140c-facf-4d36-b760-bd88a3e4d512",
   "metadata": {},
   "outputs": [],
   "source": [
    "from pydantic import BaseModel, Field\n",
    "from pydantic_ai import Agent\n",
    "from typing import List\n",
    "import os"
   ]
  },
  {
   "cell_type": "markdown",
   "id": "bb3e217a-83a1-4d4d-b79a-2e643d233b4d",
   "metadata": {},
   "source": [
    "Data Models: Structured insights we from from discovery interview transcripts"
   ]
  },
  {
   "cell_type": "code",
   "execution_count": 17,
   "id": "d655f114-4414-45d3-a56d-be1019e4fa18",
   "metadata": {},
   "outputs": [],
   "source": [
    "class PainPoint(BaseModel):\n",
    "    description: str = Field(description=\"What's not working for the user\")\n",
    "    impact: str = Field(description=\"Time lost, extra work, costs, uncertainty, etc.\")\n",
    "    quote: str = Field(description=\"User's exact words\")\n",
    "\n",
    "class InterviewInsights(BaseModel):\n",
    "    \"\"\"All insights extracted from one interview\"\"\"\n",
    "    pain_points: List[PainPoint] = Field(description=\"All pain points mentioned in the interview\")\n",
    "\n",
    "class JobToBeDone(BaseModel):\n",
    "    functional_job: str = Field(description=\"What task are they trying to complete?\")\n",
    "    emotional_job: str = Field(description=\"What they care about and how do they want to feel?\")\n",
    "    context: str = Field(description=\"When/where does this happen?\")\n",
    "    quote: str\n",
    "\n",
    "class Workaround(BaseModel):\n",
    "    what_they_do: str = Field(description=\"The workaround(s) they've created\")\n",
    "    why_needed: str = Field(description=\"What problem does the workaround solve?\")\n",
    "    cost: str = Field(description=\"Time/effort/risks this workaround takes\")\n",
    "    quote: str\n",
    "\n",
    "class DesiredOutcome(BaseModel):\n",
    "    outcome: str = Field(description=\"What do they really want?\")\n",
    "    current_gap: str = Field(description=\"Why can't they achieve this now?\")\n",
    "    quote: str\n",
    "\n",
    "class BehavioralSignal(BaseModel):\n",
    "    observation: str = Field(description=\"What implicit things did they say/do that was revealing?\")\n",
    "    what_it_reveals: str = Field(description=\"The underlying need or belief\")\n",
    "    quote: str"
   ]
  },
  {
   "cell_type": "markdown",
   "id": "4122faac-cc0b-4443-9885-4783d28e88a9",
   "metadata": {},
   "source": [
    "Create an AI agent that extracts insights"
   ]
  },
  {
   "cell_type": "code",
   "execution_count": 18,
   "id": "48287d24-f633-4909-8008-d88417d9eed1",
   "metadata": {},
   "outputs": [],
   "source": [
    "insight_agent = Agent(\n",
    "    model='openai:gpt-4o-mini',\n",
    "    output_type=InterviewInsights,  # ← Returns multiple pain points\n",
    "    system_prompt=\"\"\"You are an expert product researcher analyzing user interviews.  \n",
    "    Extract ALL pain points from the interview transcript.\n",
    "    Focus on problems that cost the user time, money, create uncertainty, or cause frustration.\n",
    "    A single interview may have multiple pain points - find them all.\n",
    "    Always include the user's exact words as evidence for each pain point.\"\"\"\n",
    ")"
   ]
  },
  {
   "cell_type": "markdown",
   "id": "d245e065-a84e-4c03-a765-536802a68551",
   "metadata": {},
   "source": [
    "Sample Interview:"
   ]
  },
  {
   "cell_type": "code",
   "execution_count": 19,
   "id": "a3b648b7-0c9a-4215-8d4c-0a97fc7e2d8d",
   "metadata": {},
   "outputs": [],
   "source": [
    "SAMPLE_INTERVIEW = \"\"\"\n",
    "Interviewer: Tell me about the last time you tried to analyze user research data.\n",
    "\n",
    "Participant: Oh, just last week. We had 12 customer interviews and I needed to present insights to the team. I probably spent 8 hours just going through transcripts, copying quotes into a doc, trying to find themes.\n",
    "\n",
    "Interviewer: What made it take so long?\n",
    "\n",
    "Participant: The biggest problem is that insights are scattered everywhere. One user mentions pricing is confusing in passing, another user describes the same issue but uses completely different words. I have to read everything multiple times and manually connect the dots. By the end, my brain is fried and I'm not even confident I caught all the important patterns.\n",
    "\n",
    "Interviewer: How does that affect your work?\n",
    "\n",
    "Participant: It makes me anxious honestly. When my PM asks \"what did users say about feature X?\" I sometimes have to say \"let me go back and check\" because I can't remember or didn't catch it the first time. It makes me look unprepared even though I've put in the hours.\n",
    "\"\"\""
   ]
  },
  {
   "cell_type": "markdown",
   "id": "2db28339-98b1-43bb-97d9-53876c71ab7c",
   "metadata": {},
   "source": [
    "Extract pain points from the interview"
   ]
  },
  {
   "cell_type": "code",
   "execution_count": 22,
   "id": "6e970b9b-0ba5-4cad-aa84-2dd63a8eeb24",
   "metadata": {},
   "outputs": [
    {
     "name": "stdout",
     "output_type": "stream",
     "text": [
      "============================================================\n",
      "EXTRACTED 5 PAIN POINTS\n",
      "============================================================\n",
      "\n",
      "--- Pain Point 1 ---\n",
      "Description: Insights are scattered everywhere, making it difficult to connect them.\n",
      "Impact: Costing time through multiple readings and manual connection of dots.\n",
      "Quote: \"The biggest problem is that insights are scattered everywhere.\"\n",
      "\n",
      "--- Pain Point 2 ---\n",
      "Description: Users mention similar issues using completely different words, complicating analysis.\n",
      "Impact: Creating uncertainty and increasing time needed to find relevant patterns.\n",
      "Quote: \"another user describes the same issue but uses completely different words.\"\n",
      "\n",
      "--- Pain Point 3 ---\n",
      "Description: Participant's brain is 'fried' after extended analysis, leading to frustration.\n",
      "Impact: Causing mental fatigue and reducing confidence in insights.\n",
      "Quote: \"By the end, my brain is fried.\"\n",
      "\n",
      "--- Pain Point 4 ---\n",
      "Description: Anxiety caused by not being able to quickly recall user feedback during discussions.\n",
      "Impact: Making the participant feel unprepared and frustrated.\n",
      "Quote: \"It makes me anxious honestly.\"\n",
      "\n",
      "--- Pain Point 5 ---\n",
      "Description: Participant sometimes has to go back and check user feedback due to lack of confidence in memory.\n",
      "Impact: Adding extra work and creating uncertainty during team discussions.\n",
      "Quote: \"I sometimes have to say 'let me go back and check'.\"\n",
      "\n",
      "============================================================\n"
     ]
    }
   ],
   "source": [
    "result = await insight_agent.run(SAMPLE_INTERVIEW)\n",
    "insights = result.output\n",
    "\n",
    "print(\"=\" * 60)\n",
    "print(f\"EXTRACTED {len(insights.pain_points)} PAIN POINTS\")\n",
    "print(\"=\" * 60)\n",
    "\n",
    "for i, pain_point in enumerate(insights.pain_points, 1):\n",
    "    print(f\"\\n--- Pain Point {i} ---\")\n",
    "    print(f\"Description: {pain_point.description}\")\n",
    "    print(f\"Impact: {pain_point.impact}\")\n",
    "    print(f\"Quote: \\\"{pain_point.quote}\\\"\")\n",
    "\n",
    "print(\"\\n\" + \"=\" * 60)"
   ]
  },
  {
   "cell_type": "code",
   "execution_count": null,
   "id": "f53c73b1-4b12-4e97-8a61-5f00d21c170b",
   "metadata": {},
   "outputs": [],
   "source": []
  }
 ],
 "metadata": {
  "kernelspec": {
   "display_name": "Python 3 (ipykernel)",
   "language": "python",
   "name": "python3"
  },
  "language_info": {
   "codemirror_mode": {
    "name": "ipython",
    "version": 3
   },
   "file_extension": ".py",
   "mimetype": "text/x-python",
   "name": "python",
   "nbconvert_exporter": "python",
   "pygments_lexer": "ipython3",
   "version": "3.11.13"
  }
 },
 "nbformat": 4,
 "nbformat_minor": 5
}
