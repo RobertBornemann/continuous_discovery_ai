{
 "cells": [
  {
   "cell_type": "code",
   "execution_count": 7,
   "id": "aa84140c-facf-4d36-b760-bd88a3e4d512",
   "metadata": {},
   "outputs": [
    {
     "data": {
      "text/plain": [
       "True"
      ]
     },
     "execution_count": 7,
     "metadata": {},
     "output_type": "execute_result"
    }
   ],
   "source": [
    "from dotenv import load_dotenv\n",
    "import os\n",
    "from pydantic import BaseModel, Field\n",
    "from pydantic_ai import Agent\n",
    "from typing import List\n",
    "\n",
    "load_dotenv()"
   ]
  },
  {
   "cell_type": "markdown",
   "id": "bb3e217a-83a1-4d4d-b79a-2e643d233b4d",
   "metadata": {},
   "source": [
    "Data structure / BaseModel"
   ]
  },
  {
   "cell_type": "code",
   "execution_count": 8,
   "id": "d655f114-4414-45d3-a56d-be1019e4fa18",
   "metadata": {},
   "outputs": [],
   "source": [
    "class PainPoint(BaseModel):\n",
    "    description: str = Field(description=\"What's not working for the user. Be specific about the problem, not the solution.\")\n",
    "    impact: str = Field(description=\"Cost in time, money, or confidence. Include quotes with numbers when available.\")\n",
    "    quote: str = Field(description=\"User's exact words revealing this pain\")\n",
    "    \n",
    "class JobToBeDone(BaseModel):\n",
    "    functional_job: str = Field(description=\"What task are they trying to complete?\")\n",
    "    emotional_job: str = Field(description=\"What they care about and how do they want to feel?\")\n",
    "    context: str = Field(description=\"When/where does this happen?\")\n",
    "    quote: str\n",
    "\n",
    "class Workaround(BaseModel):\n",
    "    what_they_do: str = Field(description=\"The workaround(s) they've created\")\n",
    "    why_needed: str = Field(description=\"What problem does the workaround solve?\")\n",
    "    cost: str = Field(description=\"Time/effort/risks this workaround takes\")\n",
    "    quote: str\n",
    "\n",
    "class DesiredOutcome(BaseModel):\n",
    "    outcome: str = Field(description=\"What do they really want?\")\n",
    "    current_gap: str = Field(description=\"Why can't they achieve this now?\")\n",
    "    quote: str\n",
    "\n",
    "class BehavioralSignal(BaseModel):\n",
    "    observation: str = Field(description=\"What implicit things did they say/do that was revealing?\")\n",
    "    what_it_reveals: str = Field(description=\"The underlying need or belief\")\n",
    "    quote: str\n",
    "\n",
    "class InterviewInsights(BaseModel):\n",
    "    pain_points: List[PainPoint]\n",
    "    jobs_to_be_done: List[JobToBeDone]\n",
    "    workarounds: List[Workaround]\n",
    "    desired_outcomes: List[DesiredOutcome]\n",
    "    behavioral_signals: List[BehavioralSignal]"
   ]
  },
  {
   "cell_type": "markdown",
   "id": "4122faac-cc0b-4443-9885-4783d28e88a9",
   "metadata": {},
   "source": [
    "Create AI agent that extracts insights:"
   ]
  },
  {
   "cell_type": "code",
   "execution_count": 9,
   "id": "48287d24-f633-4909-8008-d88417d9eed1",
   "metadata": {},
   "outputs": [],
   "source": [
    "multi_insight_agent = Agent(\n",
    "    model='openai:gpt-4o-mini',\n",
    "    output_type=InterviewInsights,\n",
    "    system_prompt=\"\"\"You are an expert product researcher analyzing user interviews using established frameworks (Jobs-to-be-Done, continuous discovery practices).\n",
    "    \n",
    "    Extract ALL insights from the interview:\n",
    "    - Pain points: Problems causing time waste, costs, uncertainty, frustration\n",
    "    - Jobs-to-be-done: What they're trying to accomplish (functional + emotional goals)\n",
    "    - Workarounds: Current hacks/solutions they've created\n",
    "    - Desired outcomes: What do they really want\n",
    "    - Behavioral signals: Implicit patterns (what they do that reveals underlying needs)\n",
    "    \n",
    "    Always include exact quotes as evidence. Be thorough - one interview may have multiple insights of each type.\"\"\"\n",
    ")"
   ]
  },
  {
   "cell_type": "markdown",
   "id": "d245e065-a84e-4c03-a765-536802a68551",
   "metadata": {},
   "source": [
    "Sample Interview:"
   ]
  },
  {
   "cell_type": "markdown",
   "id": "2db28339-98b1-43bb-97d9-53876c71ab7c",
   "metadata": {},
   "source": [
    "Extract data models from the sample interview:"
   ]
  },
  {
   "cell_type": "code",
   "execution_count": 12,
   "id": "6e970b9b-0ba5-4cad-aa84-2dd63a8eeb24",
   "metadata": {},
   "outputs": [],
   "source": [
    "def load_transcript(filepath: str) -> str:\n",
    "       \"\"\"Load interview transcript from file\"\"\"\n",
    "       with open(filepath, 'r') as f:\n",
    "           return f.read()\n",
    "   \n",
    "   # Load and analyze\n",
    "transcript = load_transcript('data/interviews/mock_interview.txt')\n",
    "result = await multi_insight_agent.run(transcript)\n",
    "insights = result.output"
   ]
  },
  {
   "cell_type": "code",
   "execution_count": 15,
   "id": "f53c73b1-4b12-4e97-8a61-5f00d21c170b",
   "metadata": {},
   "outputs": [
    {
     "name": "stdout",
     "output_type": "stream",
     "text": [
      "\n",
      "PAIN POINTS:\n",
      "\n",
      "1. Encountering a large number of unexpected fields in the API response, leading to confusion.\n",
      "   Impact: Wasted time and effort in understanding data fields—defining which ones to use takes longer than necessary.\n",
      "   Quote: I ended up dumping the response into a JSON viewer and going field by field.\n",
      "\n",
      "2. Inconsistent API response formats across different endpoints, which complicates onboarding for new developers.\n",
      "   Impact: Increased training time and reduced onboarding efficiency.\n",
      "   Quote: Right now, some endpoints return arrays, others wrap everything in an object with metadata.\n",
      "\n",
      "3. Lack of observability in the API, making it difficult to detect issues until they become significant problems.\n",
      "   Impact: Increased response times to problems; potential customer dissatisfaction due to undetected errors.\n",
      "   Quote: If something goes wrong, I only notice when logs blow up or when a customer reports it.\n",
      "\n",
      "4. No real testing sandbox, forcing reliance on potentially harmful testing methods.\n",
      "   Impact: Risk of corrupting production data and increased stress during deployment.\n",
      "   Quote: Yeah, once we polluted real data by mistake. Had to clean it up. Stressful.\n",
      "\n",
      "\n",
      "JOBS-TO-BE-DONE:\n",
      "\n",
      "1. Functional: Integrate the API for generating custom reports.\n",
      "   Emotional: Try to feel competent and reliable in delivering accurate reports without unnecessary confusion.\n",
      "   Context: When working on a feature that relies on the API to filter transaction data for clients.\n",
      "\n",
      "2. Functional: Optimize data retrieval with the API to reduce development time.\n",
      "   Emotional: Desire to feel efficient and reduce frustration during the integration process.\n",
      "   Context: While experimenting with API calls and filtering relevant data fields.\n",
      "\n",
      "3. Functional: Test API response behavior in a safe environment.\n",
      "   Emotional: Want to feel secure and prepared against data corruption risks during testing.\n",
      "   Context: When testing changes or new features that interact with the API.\n",
      "\n",
      "\n",
      "WORKAROUNDS:\n",
      "\n",
      "1. Writing little scripts to experiment with API responses and find functionalities.\n",
      "   Why: To deal with the lack of clarity in response data structure and field usage.\n",
      "   Cost: Time spent creating, debugging, and maintaining these scripts.\n",
      "\n",
      "2. Searching through old repositories to understand how fields were previously used.\n",
      "   Why: To bridge the gap in knowledge about API responses without clear documentation.\n",
      "   Cost: Time spent in searching previous implementations rather than focusing on current tasks.\n",
      "\n",
      "\n",
      "DESIRED OUTCOMES:\n",
      "\n",
      "1. A more consistent API response format to simplify development.\n",
      "   Gap: Existing inconsistencies add friction during API onboarding for new team members.\n",
      "\n",
      "2. Improved observability features like metrics on latency, error rates, and success ratios.\n",
      "   Gap: Currently, only alerted to issues through error logging or customer reports.\n",
      "\n",
      "3. A dedicated sandbox environment for safe API testing.\n",
      "   Gap: Lack of a realistic testing environment forces reliance on risky production testing.\n",
      "\n",
      "4. A bulk operations endpoint to streamline data handling.\n",
      "   Gap: Currently forced to process records one by one, making the code complex and less efficient.\n",
      "\n",
      "\n",
      "BEHAVIORAL SIGNALS:\n",
      "\n",
      "1. Referring to the integration experience as \"detective work.\"\n",
      "   Reveals: The interviewee feels the integration process lacks clarity, leading them to spend time troubleshooting instead of developing.\n",
      "\n",
      "2. Mentioning a reliance on historical repositories to figure out current API usage.\n",
      "   Reveals: Demonstrates a gap in current documentation or user-friendliness, needing to backtrack to understand utilization.\n",
      "\n",
      "3. Expressing frustration over being reactive rather than proactive in their work with the API.\n",
      "   Reveals: Desire for control and predictability in data handling and issue resolution.\n"
     ]
    }
   ],
   "source": [
    "print(\"\\nPAIN POINTS:\")\n",
    "for i, pp in enumerate(insights.pain_points, 1):\n",
    "    print(f\"\\n{i}. {pp.description}\")\n",
    "    print(f\"   Impact: {pp.impact}\")\n",
    "    print(f\"   Quote: {pp.quote}\")\n",
    "\n",
    "print(\"\\n\\nJOBS-TO-BE-DONE:\")\n",
    "for i, job in enumerate(insights.jobs_to_be_done, 1):\n",
    "    print(f\"\\n{i}. Functional: {job.functional_job}\")\n",
    "    print(f\"   Emotional: {job.emotional_job}\")\n",
    "    print(f\"   Context: {job.context}\")\n",
    "\n",
    "print(\"\\n\\nWORKAROUNDS:\")\n",
    "for i, w in enumerate(insights.workarounds, 1):\n",
    "    print(f\"\\n{i}. {w.what_they_do}\")\n",
    "    print(f\"   Why: {w.why_needed}\")\n",
    "    print(f\"   Cost: {w.cost}\")\n",
    "\n",
    "print(\"\\n\\nDESIRED OUTCOMES:\")\n",
    "for i, outcome in enumerate(insights.desired_outcomes, 1):\n",
    "    print(f\"\\n{i}. {outcome.outcome}\")\n",
    "    print(f\"   Gap: {outcome.current_gap}\")\n",
    "\n",
    "print(\"\\n\\nBEHAVIORAL SIGNALS:\")\n",
    "for i, signal in enumerate(insights.behavioral_signals, 1):\n",
    "    print(f\"\\n{i}. {signal.observation}\")\n",
    "    print(f\"   Reveals: {signal.what_it_reveals}\")"
   ]
  },
  {
   "cell_type": "code",
   "execution_count": null,
   "id": "e0086297-6bd4-4742-a83b-56d3d6f8410f",
   "metadata": {},
   "outputs": [],
   "source": []
  }
 ],
 "metadata": {
  "kernelspec": {
   "display_name": "Python 3 (ipykernel)",
   "language": "python",
   "name": "python3"
  },
  "language_info": {
   "codemirror_mode": {
    "name": "ipython",
    "version": 3
   },
   "file_extension": ".py",
   "mimetype": "text/x-python",
   "name": "python",
   "nbconvert_exporter": "python",
   "pygments_lexer": "ipython3",
   "version": "3.11.13"
  }
 },
 "nbformat": 4,
 "nbformat_minor": 5
}
